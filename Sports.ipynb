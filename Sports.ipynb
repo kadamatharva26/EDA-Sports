{
  "nbformat": 4,
  "nbformat_minor": 0,
  "metadata": {
    "colab": {
      "name": "Sports.ipynb",
      "provenance": [],
      "collapsed_sections": [],
      "authorship_tag": "ABX9TyMkzSdcIwV2E2wpPXZjrJx0",
      "include_colab_link": true
    },
    "kernelspec": {
      "name": "python3",
      "display_name": "Python 3"
    },
    "language_info": {
      "name": "python"
    }
  },
  "cells": [
    {
      "cell_type": "markdown",
      "metadata": {
        "id": "view-in-github",
        "colab_type": "text"
      },
      "source": [
        "<a href=\"https://colab.research.google.com/github/kadamatharva26/EDA-Sports/blob/main/Sports.ipynb\" target=\"_parent\"><img src=\"https://colab.research.google.com/assets/colab-badge.svg\" alt=\"Open In Colab\"/></a>"
      ]
    },
    {
      "cell_type": "markdown",
      "metadata": {
        "id": "gH0GyfyAw4oV"
      },
      "source": [
        "#Task-5"
      ]
    },
    {
      "cell_type": "markdown",
      "metadata": {
        "id": "SezldhutxUjH"
      },
      "source": [
        "#Exploratory Data Analysis - Sports"
      ]
    },
    {
      "cell_type": "markdown",
      "metadata": {
        "id": "D5kUFtc_w6Lh"
      },
      "source": [
        "#Atharva Kadam"
      ]
    },
    {
      "cell_type": "code",
      "metadata": {
        "id": "brtp-pp7RNAR"
      },
      "source": [
        "#importing required packages\n",
        "import numpy as np\n",
        "import pandas as pd\n",
        "import matplotlib.pyplot as plt\n",
        "import seaborn as sns\n",
        "%matplotlib inline\n"
      ],
      "execution_count": 3,
      "outputs": []
    },
    {
      "cell_type": "code",
      "metadata": {
        "id": "_GW4tMsuSeDZ"
      },
      "source": [
        "#reading the data\n",
        "df=pd.read_csv('deliveries.csv')\n",
        "df1=pd.read_csv('matches.csv')"
      ],
      "execution_count": 4,
      "outputs": []
    },
    {
      "cell_type": "code",
      "metadata": {
        "colab": {
          "base_uri": "https://localhost:8080/"
        },
        "id": "92vhUumyU4QT",
        "outputId": "80d800b2-0e43-46db-a014-35d6646d972e"
      },
      "source": [
        "#shows information for matches dataset\n",
        "df1.info()"
      ],
      "execution_count": 5,
      "outputs": [
        {
          "output_type": "stream",
          "text": [
            "<class 'pandas.core.frame.DataFrame'>\n",
            "RangeIndex: 756 entries, 0 to 755\n",
            "Data columns (total 18 columns):\n",
            " #   Column           Non-Null Count  Dtype \n",
            "---  ------           --------------  ----- \n",
            " 0   id               756 non-null    int64 \n",
            " 1   season           756 non-null    int64 \n",
            " 2   city             749 non-null    object\n",
            " 3   date             756 non-null    object\n",
            " 4   team1            756 non-null    object\n",
            " 5   team2            756 non-null    object\n",
            " 6   toss_winner      756 non-null    object\n",
            " 7   toss_decision    756 non-null    object\n",
            " 8   result           756 non-null    object\n",
            " 9   dl_applied       756 non-null    int64 \n",
            " 10  winner           752 non-null    object\n",
            " 11  win_by_runs      756 non-null    int64 \n",
            " 12  win_by_wickets   756 non-null    int64 \n",
            " 13  player_of_match  752 non-null    object\n",
            " 14  venue            756 non-null    object\n",
            " 15  umpire1          754 non-null    object\n",
            " 16  umpire2          754 non-null    object\n",
            " 17  umpire3          119 non-null    object\n",
            "dtypes: int64(5), object(13)\n",
            "memory usage: 106.4+ KB\n"
          ],
          "name": "stdout"
        }
      ]
    },
    {
      "cell_type": "code",
      "metadata": {
        "colab": {
          "base_uri": "https://localhost:8080/"
        },
        "id": "PewCjUaxL1-x",
        "outputId": "89934c80-4fd4-40c7-e396-d7e3a3e2f7ef"
      },
      "source": [
        "#shows information for deliveries dataset\n",
        "df.info()"
      ],
      "execution_count": 6,
      "outputs": [
        {
          "output_type": "stream",
          "text": [
            "<class 'pandas.core.frame.DataFrame'>\n",
            "RangeIndex: 41304 entries, 0 to 41303\n",
            "Data columns (total 21 columns):\n",
            " #   Column            Non-Null Count  Dtype  \n",
            "---  ------            --------------  -----  \n",
            " 0   match_id          41304 non-null  int64  \n",
            " 1   inning            41304 non-null  int64  \n",
            " 2   batting_team      41304 non-null  object \n",
            " 3   bowling_team      41304 non-null  object \n",
            " 4   over              41304 non-null  int64  \n",
            " 5   ball              41304 non-null  int64  \n",
            " 6   batsman           41304 non-null  object \n",
            " 7   non_striker       41304 non-null  object \n",
            " 8   bowler            41304 non-null  object \n",
            " 9   is_super_over     41304 non-null  int64  \n",
            " 10  wide_runs         41304 non-null  int64  \n",
            " 11  bye_runs          41303 non-null  float64\n",
            " 12  legbye_runs       41303 non-null  float64\n",
            " 13  noball_runs       41303 non-null  float64\n",
            " 14  penalty_runs      41303 non-null  float64\n",
            " 15  batsman_runs      41303 non-null  float64\n",
            " 16  extra_runs        41303 non-null  float64\n",
            " 17  total_runs        41303 non-null  float64\n",
            " 18  player_dismissed  2113 non-null   object \n",
            " 19  dismissal_kind    2113 non-null   object \n",
            " 20  fielder           1525 non-null   object \n",
            "dtypes: float64(7), int64(6), object(8)\n",
            "memory usage: 6.6+ MB\n"
          ],
          "name": "stdout"
        }
      ]
    },
    {
      "cell_type": "code",
      "metadata": {
        "colab": {
          "base_uri": "https://localhost:8080/",
          "height": 317
        },
        "id": "3VC0LNp4L6Xz",
        "outputId": "a972768f-0f9f-4f9b-97f1-e31ac8801f4c"
      },
      "source": [
        "df.describe()"
      ],
      "execution_count": 7,
      "outputs": [
        {
          "output_type": "execute_result",
          "data": {
            "text/html": [
              "<div>\n",
              "<style scoped>\n",
              "    .dataframe tbody tr th:only-of-type {\n",
              "        vertical-align: middle;\n",
              "    }\n",
              "\n",
              "    .dataframe tbody tr th {\n",
              "        vertical-align: top;\n",
              "    }\n",
              "\n",
              "    .dataframe thead th {\n",
              "        text-align: right;\n",
              "    }\n",
              "</style>\n",
              "<table border=\"1\" class=\"dataframe\">\n",
              "  <thead>\n",
              "    <tr style=\"text-align: right;\">\n",
              "      <th></th>\n",
              "      <th>match_id</th>\n",
              "      <th>inning</th>\n",
              "      <th>over</th>\n",
              "      <th>ball</th>\n",
              "      <th>is_super_over</th>\n",
              "      <th>wide_runs</th>\n",
              "      <th>bye_runs</th>\n",
              "      <th>legbye_runs</th>\n",
              "      <th>noball_runs</th>\n",
              "      <th>penalty_runs</th>\n",
              "      <th>batsman_runs</th>\n",
              "      <th>extra_runs</th>\n",
              "      <th>total_runs</th>\n",
              "    </tr>\n",
              "  </thead>\n",
              "  <tbody>\n",
              "    <tr>\n",
              "      <th>count</th>\n",
              "      <td>41304.000000</td>\n",
              "      <td>41304.000000</td>\n",
              "      <td>41304.000000</td>\n",
              "      <td>41304.000000</td>\n",
              "      <td>41304.000000</td>\n",
              "      <td>41304.000000</td>\n",
              "      <td>41303.000000</td>\n",
              "      <td>41303.000000</td>\n",
              "      <td>41303.000000</td>\n",
              "      <td>41303.000000</td>\n",
              "      <td>41303.000000</td>\n",
              "      <td>41303.000000</td>\n",
              "      <td>41303.000000</td>\n",
              "    </tr>\n",
              "    <tr>\n",
              "      <th>mean</th>\n",
              "      <td>88.565224</td>\n",
              "      <td>1.478404</td>\n",
              "      <td>10.075852</td>\n",
              "      <td>3.625218</td>\n",
              "      <td>0.000581</td>\n",
              "      <td>0.039173</td>\n",
              "      <td>0.005060</td>\n",
              "      <td>0.023509</td>\n",
              "      <td>0.004939</td>\n",
              "      <td>0.000121</td>\n",
              "      <td>1.223253</td>\n",
              "      <td>0.072803</td>\n",
              "      <td>1.296056</td>\n",
              "    </tr>\n",
              "    <tr>\n",
              "      <th>std</th>\n",
              "      <td>51.053405</td>\n",
              "      <td>0.501860</td>\n",
              "      <td>5.668132</td>\n",
              "      <td>1.814553</td>\n",
              "      <td>0.024098</td>\n",
              "      <td>0.257781</td>\n",
              "      <td>0.114971</td>\n",
              "      <td>0.205499</td>\n",
              "      <td>0.074460</td>\n",
              "      <td>0.024602</td>\n",
              "      <td>1.607151</td>\n",
              "      <td>0.353393</td>\n",
              "      <td>1.594700</td>\n",
              "    </tr>\n",
              "    <tr>\n",
              "      <th>min</th>\n",
              "      <td>1.000000</td>\n",
              "      <td>1.000000</td>\n",
              "      <td>1.000000</td>\n",
              "      <td>1.000000</td>\n",
              "      <td>0.000000</td>\n",
              "      <td>0.000000</td>\n",
              "      <td>0.000000</td>\n",
              "      <td>0.000000</td>\n",
              "      <td>0.000000</td>\n",
              "      <td>0.000000</td>\n",
              "      <td>0.000000</td>\n",
              "      <td>0.000000</td>\n",
              "      <td>0.000000</td>\n",
              "    </tr>\n",
              "    <tr>\n",
              "      <th>25%</th>\n",
              "      <td>44.000000</td>\n",
              "      <td>1.000000</td>\n",
              "      <td>5.000000</td>\n",
              "      <td>2.000000</td>\n",
              "      <td>0.000000</td>\n",
              "      <td>0.000000</td>\n",
              "      <td>0.000000</td>\n",
              "      <td>0.000000</td>\n",
              "      <td>0.000000</td>\n",
              "      <td>0.000000</td>\n",
              "      <td>0.000000</td>\n",
              "      <td>0.000000</td>\n",
              "      <td>0.000000</td>\n",
              "    </tr>\n",
              "    <tr>\n",
              "      <th>50%</th>\n",
              "      <td>88.000000</td>\n",
              "      <td>1.000000</td>\n",
              "      <td>10.000000</td>\n",
              "      <td>4.000000</td>\n",
              "      <td>0.000000</td>\n",
              "      <td>0.000000</td>\n",
              "      <td>0.000000</td>\n",
              "      <td>0.000000</td>\n",
              "      <td>0.000000</td>\n",
              "      <td>0.000000</td>\n",
              "      <td>1.000000</td>\n",
              "      <td>0.000000</td>\n",
              "      <td>1.000000</td>\n",
              "    </tr>\n",
              "    <tr>\n",
              "      <th>75%</th>\n",
              "      <td>133.000000</td>\n",
              "      <td>2.000000</td>\n",
              "      <td>15.000000</td>\n",
              "      <td>5.000000</td>\n",
              "      <td>0.000000</td>\n",
              "      <td>0.000000</td>\n",
              "      <td>0.000000</td>\n",
              "      <td>0.000000</td>\n",
              "      <td>0.000000</td>\n",
              "      <td>0.000000</td>\n",
              "      <td>1.000000</td>\n",
              "      <td>0.000000</td>\n",
              "      <td>1.000000</td>\n",
              "    </tr>\n",
              "    <tr>\n",
              "      <th>max</th>\n",
              "      <td>176.000000</td>\n",
              "      <td>4.000000</td>\n",
              "      <td>20.000000</td>\n",
              "      <td>9.000000</td>\n",
              "      <td>1.000000</td>\n",
              "      <td>5.000000</td>\n",
              "      <td>4.000000</td>\n",
              "      <td>5.000000</td>\n",
              "      <td>5.000000</td>\n",
              "      <td>5.000000</td>\n",
              "      <td>6.000000</td>\n",
              "      <td>5.000000</td>\n",
              "      <td>7.000000</td>\n",
              "    </tr>\n",
              "  </tbody>\n",
              "</table>\n",
              "</div>"
            ],
            "text/plain": [
              "           match_id        inning  ...    extra_runs    total_runs\n",
              "count  41304.000000  41304.000000  ...  41303.000000  41303.000000\n",
              "mean      88.565224      1.478404  ...      0.072803      1.296056\n",
              "std       51.053405      0.501860  ...      0.353393      1.594700\n",
              "min        1.000000      1.000000  ...      0.000000      0.000000\n",
              "25%       44.000000      1.000000  ...      0.000000      0.000000\n",
              "50%       88.000000      1.000000  ...      0.000000      1.000000\n",
              "75%      133.000000      2.000000  ...      0.000000      1.000000\n",
              "max      176.000000      4.000000  ...      5.000000      7.000000\n",
              "\n",
              "[8 rows x 13 columns]"
            ]
          },
          "metadata": {
            "tags": []
          },
          "execution_count": 7
        }
      ]
    },
    {
      "cell_type": "code",
      "metadata": {
        "colab": {
          "base_uri": "https://localhost:8080/",
          "height": 297
        },
        "id": "eJ_-R2vjMNqA",
        "outputId": "86e9f99d-af86-4a82-af75-7ee923bfaf22"
      },
      "source": [
        "df1.describe()"
      ],
      "execution_count": 8,
      "outputs": [
        {
          "output_type": "execute_result",
          "data": {
            "text/html": [
              "<div>\n",
              "<style scoped>\n",
              "    .dataframe tbody tr th:only-of-type {\n",
              "        vertical-align: middle;\n",
              "    }\n",
              "\n",
              "    .dataframe tbody tr th {\n",
              "        vertical-align: top;\n",
              "    }\n",
              "\n",
              "    .dataframe thead th {\n",
              "        text-align: right;\n",
              "    }\n",
              "</style>\n",
              "<table border=\"1\" class=\"dataframe\">\n",
              "  <thead>\n",
              "    <tr style=\"text-align: right;\">\n",
              "      <th></th>\n",
              "      <th>id</th>\n",
              "      <th>season</th>\n",
              "      <th>dl_applied</th>\n",
              "      <th>win_by_runs</th>\n",
              "      <th>win_by_wickets</th>\n",
              "    </tr>\n",
              "  </thead>\n",
              "  <tbody>\n",
              "    <tr>\n",
              "      <th>count</th>\n",
              "      <td>756.000000</td>\n",
              "      <td>756.000000</td>\n",
              "      <td>756.000000</td>\n",
              "      <td>756.000000</td>\n",
              "      <td>756.000000</td>\n",
              "    </tr>\n",
              "    <tr>\n",
              "      <th>mean</th>\n",
              "      <td>1792.178571</td>\n",
              "      <td>2013.444444</td>\n",
              "      <td>0.025132</td>\n",
              "      <td>13.283069</td>\n",
              "      <td>3.350529</td>\n",
              "    </tr>\n",
              "    <tr>\n",
              "      <th>std</th>\n",
              "      <td>3464.478148</td>\n",
              "      <td>3.366895</td>\n",
              "      <td>0.156630</td>\n",
              "      <td>23.471144</td>\n",
              "      <td>3.387963</td>\n",
              "    </tr>\n",
              "    <tr>\n",
              "      <th>min</th>\n",
              "      <td>1.000000</td>\n",
              "      <td>2008.000000</td>\n",
              "      <td>0.000000</td>\n",
              "      <td>0.000000</td>\n",
              "      <td>0.000000</td>\n",
              "    </tr>\n",
              "    <tr>\n",
              "      <th>25%</th>\n",
              "      <td>189.750000</td>\n",
              "      <td>2011.000000</td>\n",
              "      <td>0.000000</td>\n",
              "      <td>0.000000</td>\n",
              "      <td>0.000000</td>\n",
              "    </tr>\n",
              "    <tr>\n",
              "      <th>50%</th>\n",
              "      <td>378.500000</td>\n",
              "      <td>2013.000000</td>\n",
              "      <td>0.000000</td>\n",
              "      <td>0.000000</td>\n",
              "      <td>4.000000</td>\n",
              "    </tr>\n",
              "    <tr>\n",
              "      <th>75%</th>\n",
              "      <td>567.250000</td>\n",
              "      <td>2016.000000</td>\n",
              "      <td>0.000000</td>\n",
              "      <td>19.000000</td>\n",
              "      <td>6.000000</td>\n",
              "    </tr>\n",
              "    <tr>\n",
              "      <th>max</th>\n",
              "      <td>11415.000000</td>\n",
              "      <td>2019.000000</td>\n",
              "      <td>1.000000</td>\n",
              "      <td>146.000000</td>\n",
              "      <td>10.000000</td>\n",
              "    </tr>\n",
              "  </tbody>\n",
              "</table>\n",
              "</div>"
            ],
            "text/plain": [
              "                 id       season  dl_applied  win_by_runs  win_by_wickets\n",
              "count    756.000000   756.000000  756.000000   756.000000      756.000000\n",
              "mean    1792.178571  2013.444444    0.025132    13.283069        3.350529\n",
              "std     3464.478148     3.366895    0.156630    23.471144        3.387963\n",
              "min        1.000000  2008.000000    0.000000     0.000000        0.000000\n",
              "25%      189.750000  2011.000000    0.000000     0.000000        0.000000\n",
              "50%      378.500000  2013.000000    0.000000     0.000000        4.000000\n",
              "75%      567.250000  2016.000000    0.000000    19.000000        6.000000\n",
              "max    11415.000000  2019.000000    1.000000   146.000000       10.000000"
            ]
          },
          "metadata": {
            "tags": []
          },
          "execution_count": 8
        }
      ]
    },
    {
      "cell_type": "code",
      "metadata": {
        "colab": {
          "base_uri": "https://localhost:8080/",
          "height": 445
        },
        "id": "H6u6hsNTS3J0",
        "outputId": "e7c3d83a-37cf-4bfe-935e-72e7ef7f0048"
      },
      "source": [
        "df1.head()"
      ],
      "execution_count": 9,
      "outputs": [
        {
          "output_type": "execute_result",
          "data": {
            "text/html": [
              "<div>\n",
              "<style scoped>\n",
              "    .dataframe tbody tr th:only-of-type {\n",
              "        vertical-align: middle;\n",
              "    }\n",
              "\n",
              "    .dataframe tbody tr th {\n",
              "        vertical-align: top;\n",
              "    }\n",
              "\n",
              "    .dataframe thead th {\n",
              "        text-align: right;\n",
              "    }\n",
              "</style>\n",
              "<table border=\"1\" class=\"dataframe\">\n",
              "  <thead>\n",
              "    <tr style=\"text-align: right;\">\n",
              "      <th></th>\n",
              "      <th>id</th>\n",
              "      <th>season</th>\n",
              "      <th>city</th>\n",
              "      <th>date</th>\n",
              "      <th>team1</th>\n",
              "      <th>team2</th>\n",
              "      <th>toss_winner</th>\n",
              "      <th>toss_decision</th>\n",
              "      <th>result</th>\n",
              "      <th>dl_applied</th>\n",
              "      <th>winner</th>\n",
              "      <th>win_by_runs</th>\n",
              "      <th>win_by_wickets</th>\n",
              "      <th>player_of_match</th>\n",
              "      <th>venue</th>\n",
              "      <th>umpire1</th>\n",
              "      <th>umpire2</th>\n",
              "      <th>umpire3</th>\n",
              "    </tr>\n",
              "  </thead>\n",
              "  <tbody>\n",
              "    <tr>\n",
              "      <th>0</th>\n",
              "      <td>1</td>\n",
              "      <td>2017</td>\n",
              "      <td>Hyderabad</td>\n",
              "      <td>2017-04-05</td>\n",
              "      <td>Sunrisers Hyderabad</td>\n",
              "      <td>Royal Challengers Bangalore</td>\n",
              "      <td>Royal Challengers Bangalore</td>\n",
              "      <td>field</td>\n",
              "      <td>normal</td>\n",
              "      <td>0</td>\n",
              "      <td>Sunrisers Hyderabad</td>\n",
              "      <td>35</td>\n",
              "      <td>0</td>\n",
              "      <td>Yuvraj Singh</td>\n",
              "      <td>Rajiv Gandhi International Stadium, Uppal</td>\n",
              "      <td>AY Dandekar</td>\n",
              "      <td>NJ Llong</td>\n",
              "      <td>NaN</td>\n",
              "    </tr>\n",
              "    <tr>\n",
              "      <th>1</th>\n",
              "      <td>2</td>\n",
              "      <td>2017</td>\n",
              "      <td>Pune</td>\n",
              "      <td>2017-04-06</td>\n",
              "      <td>Mumbai Indians</td>\n",
              "      <td>Rising Pune Supergiant</td>\n",
              "      <td>Rising Pune Supergiant</td>\n",
              "      <td>field</td>\n",
              "      <td>normal</td>\n",
              "      <td>0</td>\n",
              "      <td>Rising Pune Supergiant</td>\n",
              "      <td>0</td>\n",
              "      <td>7</td>\n",
              "      <td>SPD Smith</td>\n",
              "      <td>Maharashtra Cricket Association Stadium</td>\n",
              "      <td>A Nand Kishore</td>\n",
              "      <td>S Ravi</td>\n",
              "      <td>NaN</td>\n",
              "    </tr>\n",
              "    <tr>\n",
              "      <th>2</th>\n",
              "      <td>3</td>\n",
              "      <td>2017</td>\n",
              "      <td>Rajkot</td>\n",
              "      <td>2017-04-07</td>\n",
              "      <td>Gujarat Lions</td>\n",
              "      <td>Kolkata Knight Riders</td>\n",
              "      <td>Kolkata Knight Riders</td>\n",
              "      <td>field</td>\n",
              "      <td>normal</td>\n",
              "      <td>0</td>\n",
              "      <td>Kolkata Knight Riders</td>\n",
              "      <td>0</td>\n",
              "      <td>10</td>\n",
              "      <td>CA Lynn</td>\n",
              "      <td>Saurashtra Cricket Association Stadium</td>\n",
              "      <td>Nitin Menon</td>\n",
              "      <td>CK Nandan</td>\n",
              "      <td>NaN</td>\n",
              "    </tr>\n",
              "    <tr>\n",
              "      <th>3</th>\n",
              "      <td>4</td>\n",
              "      <td>2017</td>\n",
              "      <td>Indore</td>\n",
              "      <td>2017-04-08</td>\n",
              "      <td>Rising Pune Supergiant</td>\n",
              "      <td>Kings XI Punjab</td>\n",
              "      <td>Kings XI Punjab</td>\n",
              "      <td>field</td>\n",
              "      <td>normal</td>\n",
              "      <td>0</td>\n",
              "      <td>Kings XI Punjab</td>\n",
              "      <td>0</td>\n",
              "      <td>6</td>\n",
              "      <td>GJ Maxwell</td>\n",
              "      <td>Holkar Cricket Stadium</td>\n",
              "      <td>AK Chaudhary</td>\n",
              "      <td>C Shamshuddin</td>\n",
              "      <td>NaN</td>\n",
              "    </tr>\n",
              "    <tr>\n",
              "      <th>4</th>\n",
              "      <td>5</td>\n",
              "      <td>2017</td>\n",
              "      <td>Bangalore</td>\n",
              "      <td>2017-04-08</td>\n",
              "      <td>Royal Challengers Bangalore</td>\n",
              "      <td>Delhi Daredevils</td>\n",
              "      <td>Royal Challengers Bangalore</td>\n",
              "      <td>bat</td>\n",
              "      <td>normal</td>\n",
              "      <td>0</td>\n",
              "      <td>Royal Challengers Bangalore</td>\n",
              "      <td>15</td>\n",
              "      <td>0</td>\n",
              "      <td>KM Jadhav</td>\n",
              "      <td>M Chinnaswamy Stadium</td>\n",
              "      <td>NaN</td>\n",
              "      <td>NaN</td>\n",
              "      <td>NaN</td>\n",
              "    </tr>\n",
              "  </tbody>\n",
              "</table>\n",
              "</div>"
            ],
            "text/plain": [
              "   id  season       city  ...         umpire1        umpire2 umpire3\n",
              "0   1    2017  Hyderabad  ...     AY Dandekar       NJ Llong     NaN\n",
              "1   2    2017       Pune  ...  A Nand Kishore         S Ravi     NaN\n",
              "2   3    2017     Rajkot  ...     Nitin Menon      CK Nandan     NaN\n",
              "3   4    2017     Indore  ...    AK Chaudhary  C Shamshuddin     NaN\n",
              "4   5    2017  Bangalore  ...             NaN            NaN     NaN\n",
              "\n",
              "[5 rows x 18 columns]"
            ]
          },
          "metadata": {
            "tags": []
          },
          "execution_count": 9
        }
      ]
    },
    {
      "cell_type": "code",
      "metadata": {
        "colab": {
          "base_uri": "https://localhost:8080/",
          "height": 394
        },
        "id": "Xhtv7n-t52ko",
        "outputId": "26513868-cad3-4d59-d08d-1210098f5445"
      },
      "source": [
        "df.head()"
      ],
      "execution_count": 10,
      "outputs": [
        {
          "output_type": "execute_result",
          "data": {
            "text/html": [
              "<div>\n",
              "<style scoped>\n",
              "    .dataframe tbody tr th:only-of-type {\n",
              "        vertical-align: middle;\n",
              "    }\n",
              "\n",
              "    .dataframe tbody tr th {\n",
              "        vertical-align: top;\n",
              "    }\n",
              "\n",
              "    .dataframe thead th {\n",
              "        text-align: right;\n",
              "    }\n",
              "</style>\n",
              "<table border=\"1\" class=\"dataframe\">\n",
              "  <thead>\n",
              "    <tr style=\"text-align: right;\">\n",
              "      <th></th>\n",
              "      <th>match_id</th>\n",
              "      <th>inning</th>\n",
              "      <th>batting_team</th>\n",
              "      <th>bowling_team</th>\n",
              "      <th>over</th>\n",
              "      <th>ball</th>\n",
              "      <th>batsman</th>\n",
              "      <th>non_striker</th>\n",
              "      <th>bowler</th>\n",
              "      <th>is_super_over</th>\n",
              "      <th>wide_runs</th>\n",
              "      <th>bye_runs</th>\n",
              "      <th>legbye_runs</th>\n",
              "      <th>noball_runs</th>\n",
              "      <th>penalty_runs</th>\n",
              "      <th>batsman_runs</th>\n",
              "      <th>extra_runs</th>\n",
              "      <th>total_runs</th>\n",
              "      <th>player_dismissed</th>\n",
              "      <th>dismissal_kind</th>\n",
              "      <th>fielder</th>\n",
              "    </tr>\n",
              "  </thead>\n",
              "  <tbody>\n",
              "    <tr>\n",
              "      <th>0</th>\n",
              "      <td>1</td>\n",
              "      <td>1</td>\n",
              "      <td>Sunrisers Hyderabad</td>\n",
              "      <td>Royal Challengers Bangalore</td>\n",
              "      <td>1</td>\n",
              "      <td>1</td>\n",
              "      <td>DA Warner</td>\n",
              "      <td>S Dhawan</td>\n",
              "      <td>TS Mills</td>\n",
              "      <td>0</td>\n",
              "      <td>0</td>\n",
              "      <td>0.0</td>\n",
              "      <td>0.0</td>\n",
              "      <td>0.0</td>\n",
              "      <td>0.0</td>\n",
              "      <td>0.0</td>\n",
              "      <td>0.0</td>\n",
              "      <td>0.0</td>\n",
              "      <td>NaN</td>\n",
              "      <td>NaN</td>\n",
              "      <td>NaN</td>\n",
              "    </tr>\n",
              "    <tr>\n",
              "      <th>1</th>\n",
              "      <td>1</td>\n",
              "      <td>1</td>\n",
              "      <td>Sunrisers Hyderabad</td>\n",
              "      <td>Royal Challengers Bangalore</td>\n",
              "      <td>1</td>\n",
              "      <td>2</td>\n",
              "      <td>DA Warner</td>\n",
              "      <td>S Dhawan</td>\n",
              "      <td>TS Mills</td>\n",
              "      <td>0</td>\n",
              "      <td>0</td>\n",
              "      <td>0.0</td>\n",
              "      <td>0.0</td>\n",
              "      <td>0.0</td>\n",
              "      <td>0.0</td>\n",
              "      <td>0.0</td>\n",
              "      <td>0.0</td>\n",
              "      <td>0.0</td>\n",
              "      <td>NaN</td>\n",
              "      <td>NaN</td>\n",
              "      <td>NaN</td>\n",
              "    </tr>\n",
              "    <tr>\n",
              "      <th>2</th>\n",
              "      <td>1</td>\n",
              "      <td>1</td>\n",
              "      <td>Sunrisers Hyderabad</td>\n",
              "      <td>Royal Challengers Bangalore</td>\n",
              "      <td>1</td>\n",
              "      <td>3</td>\n",
              "      <td>DA Warner</td>\n",
              "      <td>S Dhawan</td>\n",
              "      <td>TS Mills</td>\n",
              "      <td>0</td>\n",
              "      <td>0</td>\n",
              "      <td>0.0</td>\n",
              "      <td>0.0</td>\n",
              "      <td>0.0</td>\n",
              "      <td>0.0</td>\n",
              "      <td>4.0</td>\n",
              "      <td>0.0</td>\n",
              "      <td>4.0</td>\n",
              "      <td>NaN</td>\n",
              "      <td>NaN</td>\n",
              "      <td>NaN</td>\n",
              "    </tr>\n",
              "    <tr>\n",
              "      <th>3</th>\n",
              "      <td>1</td>\n",
              "      <td>1</td>\n",
              "      <td>Sunrisers Hyderabad</td>\n",
              "      <td>Royal Challengers Bangalore</td>\n",
              "      <td>1</td>\n",
              "      <td>4</td>\n",
              "      <td>DA Warner</td>\n",
              "      <td>S Dhawan</td>\n",
              "      <td>TS Mills</td>\n",
              "      <td>0</td>\n",
              "      <td>0</td>\n",
              "      <td>0.0</td>\n",
              "      <td>0.0</td>\n",
              "      <td>0.0</td>\n",
              "      <td>0.0</td>\n",
              "      <td>0.0</td>\n",
              "      <td>0.0</td>\n",
              "      <td>0.0</td>\n",
              "      <td>NaN</td>\n",
              "      <td>NaN</td>\n",
              "      <td>NaN</td>\n",
              "    </tr>\n",
              "    <tr>\n",
              "      <th>4</th>\n",
              "      <td>1</td>\n",
              "      <td>1</td>\n",
              "      <td>Sunrisers Hyderabad</td>\n",
              "      <td>Royal Challengers Bangalore</td>\n",
              "      <td>1</td>\n",
              "      <td>5</td>\n",
              "      <td>DA Warner</td>\n",
              "      <td>S Dhawan</td>\n",
              "      <td>TS Mills</td>\n",
              "      <td>0</td>\n",
              "      <td>2</td>\n",
              "      <td>0.0</td>\n",
              "      <td>0.0</td>\n",
              "      <td>0.0</td>\n",
              "      <td>0.0</td>\n",
              "      <td>0.0</td>\n",
              "      <td>2.0</td>\n",
              "      <td>2.0</td>\n",
              "      <td>NaN</td>\n",
              "      <td>NaN</td>\n",
              "      <td>NaN</td>\n",
              "    </tr>\n",
              "  </tbody>\n",
              "</table>\n",
              "</div>"
            ],
            "text/plain": [
              "   match_id  inning  ... dismissal_kind fielder\n",
              "0         1       1  ...            NaN     NaN\n",
              "1         1       1  ...            NaN     NaN\n",
              "2         1       1  ...            NaN     NaN\n",
              "3         1       1  ...            NaN     NaN\n",
              "4         1       1  ...            NaN     NaN\n",
              "\n",
              "[5 rows x 21 columns]"
            ]
          },
          "metadata": {
            "tags": []
          },
          "execution_count": 10
        }
      ]
    },
    {
      "cell_type": "code",
      "metadata": {
        "colab": {
          "base_uri": "https://localhost:8080/"
        },
        "id": "Acnt2nbUTDd0",
        "outputId": "dc68d518-0447-4b3a-afca-5c46d37f1541"
      },
      "source": [
        "df1.shape"
      ],
      "execution_count": 11,
      "outputs": [
        {
          "output_type": "execute_result",
          "data": {
            "text/plain": [
              "(756, 18)"
            ]
          },
          "metadata": {
            "tags": []
          },
          "execution_count": 11
        }
      ]
    },
    {
      "cell_type": "code",
      "metadata": {
        "colab": {
          "base_uri": "https://localhost:8080/"
        },
        "id": "KdFa5CbhL_dE",
        "outputId": "aa9c8e92-d293-40b1-ecbf-3566e52ba371"
      },
      "source": [
        "df.shape"
      ],
      "execution_count": 12,
      "outputs": [
        {
          "output_type": "execute_result",
          "data": {
            "text/plain": [
              "(41304, 21)"
            ]
          },
          "metadata": {
            "tags": []
          },
          "execution_count": 12
        }
      ]
    },
    {
      "cell_type": "code",
      "metadata": {
        "colab": {
          "base_uri": "https://localhost:8080/"
        },
        "id": "MPY-w-9zVTrh",
        "outputId": "457b2e13-0d85-4f36-dfcb-a937cce99417"
      },
      "source": [
        "#counts total number of null values\n",
        "df.isnull().sum()"
      ],
      "execution_count": 30,
      "outputs": [
        {
          "output_type": "execute_result",
          "data": {
            "text/plain": [
              "match_id                0\n",
              "inning                  0\n",
              "batting_team            0\n",
              "bowling_team            0\n",
              "over                    0\n",
              "ball                    0\n",
              "batsman                 0\n",
              "non_striker             0\n",
              "bowler                  0\n",
              "is_super_over           0\n",
              "wide_runs               0\n",
              "bye_runs                1\n",
              "legbye_runs             1\n",
              "noball_runs             1\n",
              "penalty_runs            1\n",
              "batsman_runs            1\n",
              "extra_runs              1\n",
              "total_runs              1\n",
              "player_dismissed    39191\n",
              "dismissal_kind      39191\n",
              "fielder             39779\n",
              "dtype: int64"
            ]
          },
          "metadata": {
            "tags": []
          },
          "execution_count": 30
        }
      ]
    },
    {
      "cell_type": "code",
      "metadata": {
        "colab": {
          "base_uri": "https://localhost:8080/"
        },
        "id": "GZOHAt_BRrgy",
        "outputId": "69245b8c-e5dc-4fe2-8767-c8219485d49e"
      },
      "source": [
        "df1.isnull().sum()"
      ],
      "execution_count": 14,
      "outputs": [
        {
          "output_type": "execute_result",
          "data": {
            "text/plain": [
              "id                   0\n",
              "season               0\n",
              "city                 7\n",
              "date                 0\n",
              "team1                0\n",
              "team2                0\n",
              "toss_winner          0\n",
              "toss_decision        0\n",
              "result               0\n",
              "dl_applied           0\n",
              "winner               4\n",
              "win_by_runs          0\n",
              "win_by_wickets       0\n",
              "player_of_match      4\n",
              "venue                0\n",
              "umpire1              2\n",
              "umpire2              2\n",
              "umpire3            637\n",
              "dtype: int64"
            ]
          },
          "metadata": {
            "tags": []
          },
          "execution_count": 14
        }
      ]
    },
    {
      "cell_type": "markdown",
      "metadata": {
        "id": "8WWx0-Phx-Qh"
      },
      "source": [
        "Basic Overview for Matches Dataset"
      ]
    },
    {
      "cell_type": "code",
      "metadata": {
        "colab": {
          "base_uri": "https://localhost:8080/"
        },
        "id": "7tTsZN9kMxiU",
        "outputId": "b39d41a0-3d0a-4351-cff9-dbd77561613a"
      },
      "source": [
        "print('Total Seasons\\n',df1['season'].value_counts().nunique())"
      ],
      "execution_count": 15,
      "outputs": [
        {
          "output_type": "stream",
          "text": [
            "Total Seasons\n",
            " 7\n"
          ],
          "name": "stdout"
        }
      ]
    },
    {
      "cell_type": "code",
      "metadata": {
        "colab": {
          "base_uri": "https://localhost:8080/"
        },
        "id": "k7XMCvaINK8g",
        "outputId": "bc1c55a0-cffd-439e-8e16-500db3ecc994"
      },
      "source": [
        "print('Total Matches Played\\n',df1.shape[0])                   "
      ],
      "execution_count": 16,
      "outputs": [
        {
          "output_type": "stream",
          "text": [
            "Total Matches Played\n",
            " 756\n"
          ],
          "name": "stdout"
        }
      ]
    },
    {
      "cell_type": "code",
      "metadata": {
        "colab": {
          "base_uri": "https://localhost:8080/"
        },
        "id": "xiuCq0jwKX7K",
        "outputId": "2dac6b9f-79d2-41f5-8fd9-c9f68be9b00b"
      },
      "source": [
        "print('Man Of The Match AND Number of Matches\\n',df1['player_of_match'].value_counts())"
      ],
      "execution_count": 17,
      "outputs": [
        {
          "output_type": "stream",
          "text": [
            "Man Of The Match AND Number of Matches\n",
            " CH Gayle          21\n",
            "AB de Villiers    20\n",
            "RG Sharma         17\n",
            "MS Dhoni          17\n",
            "DA Warner         17\n",
            "                  ..\n",
            "S Curran           1\n",
            "Z Khan             1\n",
            "A Singh            1\n",
            "B Stanlake         1\n",
            "PD Collingwood     1\n",
            "Name: player_of_match, Length: 226, dtype: int64\n"
          ],
          "name": "stdout"
        }
      ]
    },
    {
      "cell_type": "code",
      "metadata": {
        "colab": {
          "base_uri": "https://localhost:8080/"
        },
        "id": "z4oiqqSrLQps",
        "outputId": "c3caa266-eefe-4585-8942-5f3acbd2d839"
      },
      "source": [
        "print('Most Winning Team\\n',df1['winner'].value_counts())"
      ],
      "execution_count": 18,
      "outputs": [
        {
          "output_type": "stream",
          "text": [
            "Most Winning Team\n",
            " Mumbai Indians                 109\n",
            "Chennai Super Kings            100\n",
            "Kolkata Knight Riders           92\n",
            "Royal Challengers Bangalore     84\n",
            "Kings XI Punjab                 82\n",
            "Rajasthan Royals                75\n",
            "Delhi Daredevils                67\n",
            "Sunrisers Hyderabad             58\n",
            "Deccan Chargers                 29\n",
            "Gujarat Lions                   13\n",
            "Pune Warriors                   12\n",
            "Rising Pune Supergiant          10\n",
            "Delhi Capitals                  10\n",
            "Kochi Tuskers Kerala             6\n",
            "Rising Pune Supergiants          5\n",
            "Name: winner, dtype: int64\n"
          ],
          "name": "stdout"
        }
      ]
    },
    {
      "cell_type": "code",
      "metadata": {
        "colab": {
          "base_uri": "https://localhost:8080/"
        },
        "id": "FPTf9T_VRwgm",
        "outputId": "844cf70a-87d5-45f2-e17d-3ab2ec907634"
      },
      "source": [
        "win=df1[(df1['win_by_runs']>=100) | (df1['win_by_wickets']>=8)]\n",
        "print(win.winner.value_counts())"
      ],
      "execution_count": 19,
      "outputs": [
        {
          "output_type": "stream",
          "text": [
            "Royal Challengers Bangalore    19\n",
            "Kolkata Knight Riders          17\n",
            "Mumbai Indians                 15\n",
            "Delhi Daredevils               13\n",
            "Rajasthan Royals               12\n",
            "Chennai Super Kings            11\n",
            "Sunrisers Hyderabad             9\n",
            "Kings XI Punjab                 9\n",
            "Deccan Chargers                 2\n",
            "Kochi Tuskers Kerala            2\n",
            "Rising Pune Supergiant          1\n",
            "Rising Pune Supergiants         1\n",
            "Name: winner, dtype: int64\n"
          ],
          "name": "stdout"
        }
      ]
    },
    {
      "cell_type": "code",
      "metadata": {
        "id": "i5pomUenSSQd",
        "colab": {
          "base_uri": "https://localhost:8080/"
        },
        "outputId": "900f5476-63d0-4962-a913-903fbc023628"
      },
      "source": [
        "print(df1.toss_winner.value_counts())"
      ],
      "execution_count": 20,
      "outputs": [
        {
          "output_type": "stream",
          "text": [
            "Mumbai Indians                 98\n",
            "Kolkata Knight Riders          92\n",
            "Chennai Super Kings            89\n",
            "Kings XI Punjab                81\n",
            "Royal Challengers Bangalore    81\n",
            "Rajasthan Royals               80\n",
            "Delhi Daredevils               80\n",
            "Sunrisers Hyderabad            46\n",
            "Deccan Chargers                43\n",
            "Pune Warriors                  20\n",
            "Gujarat Lions                  15\n",
            "Delhi Capitals                 10\n",
            "Kochi Tuskers Kerala            8\n",
            "Rising Pune Supergiants         7\n",
            "Rising Pune Supergiant          6\n",
            "Name: toss_winner, dtype: int64\n"
          ],
          "name": "stdout"
        }
      ]
    },
    {
      "cell_type": "code",
      "metadata": {
        "colab": {
          "base_uri": "https://localhost:8080/",
          "height": 353
        },
        "id": "U8m9HdrEKJbc",
        "outputId": "5a2cf17f-49b4-4d8a-ea21-2f9530663d66"
      },
      "source": [
        "sns.heatmap(df1.corr(),annot=True,cmap='viridis')"
      ],
      "execution_count": 21,
      "outputs": [
        {
          "output_type": "execute_result",
          "data": {
            "text/plain": [
              "<matplotlib.axes._subplots.AxesSubplot at 0x7f9c7b0d66d0>"
            ]
          },
          "metadata": {
            "tags": []
          },
          "execution_count": 21
        },
        {
          "output_type": "display_data",
          "data": {
            "image/png": "[encoded data removed]",
            "text/plain": [
              "<Figure size 432x288 with 2 Axes>"
            ]
          },
          "metadata": {
            "tags": [],
            "needs_background": "light"
          }
        }
      ]
    },
    {
      "cell_type": "code",
      "metadata": {
        "colab": {
          "base_uri": "https://localhost:8080/",
          "height": 472
        },
        "id": "Ijn3CDZxQSuw",
        "outputId": "fa2b408a-b579-4707-8464-cf6d1f2b1061"
      },
      "source": [
        "df.corr()"
      ],
      "execution_count": 22,
      "outputs": [
        {
          "output_type": "execute_result",
          "data": {
            "text/html": [
              "<div>\n",
              "<style scoped>\n",
              "    .dataframe tbody tr th:only-of-type {\n",
              "        vertical-align: middle;\n",
              "    }\n",
              "\n",
              "    .dataframe tbody tr th {\n",
              "        vertical-align: top;\n",
              "    }\n",
              "\n",
              "    .dataframe thead th {\n",
              "        text-align: right;\n",
              "    }\n",
              "</style>\n",
              "<table border=\"1\" class=\"dataframe\">\n",
              "  <thead>\n",
              "    <tr style=\"text-align: right;\">\n",
              "      <th></th>\n",
              "      <th>match_id</th>\n",
              "      <th>inning</th>\n",
              "      <th>over</th>\n",
              "      <th>ball</th>\n",
              "      <th>is_super_over</th>\n",
              "      <th>wide_runs</th>\n",
              "      <th>bye_runs</th>\n",
              "      <th>legbye_runs</th>\n",
              "      <th>noball_runs</th>\n",
              "      <th>penalty_runs</th>\n",
              "      <th>batsman_runs</th>\n",
              "      <th>extra_runs</th>\n",
              "      <th>total_runs</th>\n",
              "    </tr>\n",
              "  </thead>\n",
              "  <tbody>\n",
              "    <tr>\n",
              "      <th>match_id</th>\n",
              "      <td>1.000000</td>\n",
              "      <td>0.003373</td>\n",
              "      <td>0.003196</td>\n",
              "      <td>0.003521</td>\n",
              "      <td>-0.005856</td>\n",
              "      <td>0.002981</td>\n",
              "      <td>0.006812</td>\n",
              "      <td>0.004570</td>\n",
              "      <td>0.014217</td>\n",
              "      <td>-0.002175</td>\n",
              "      <td>-0.043891</td>\n",
              "      <td>0.009897</td>\n",
              "      <td>-0.042040</td>\n",
              "    </tr>\n",
              "    <tr>\n",
              "      <th>inning</th>\n",
              "      <td>0.003373</td>\n",
              "      <td>1.000000</td>\n",
              "      <td>-0.058539</td>\n",
              "      <td>-0.002321</td>\n",
              "      <td>0.097130</td>\n",
              "      <td>0.006352</td>\n",
              "      <td>-0.003352</td>\n",
              "      <td>0.007855</td>\n",
              "      <td>0.000909</td>\n",
              "      <td>0.005114</td>\n",
              "      <td>-0.001665</td>\n",
              "      <td>0.008656</td>\n",
              "      <td>0.000240</td>\n",
              "    </tr>\n",
              "    <tr>\n",
              "      <th>over</th>\n",
              "      <td>0.003196</td>\n",
              "      <td>-0.058539</td>\n",
              "      <td>1.000000</td>\n",
              "      <td>-0.014922</td>\n",
              "      <td>-0.038609</td>\n",
              "      <td>-0.021056</td>\n",
              "      <td>0.018843</td>\n",
              "      <td>-0.003025</td>\n",
              "      <td>0.015521</td>\n",
              "      <td>0.001670</td>\n",
              "      <td>0.079102</td>\n",
              "      <td>-0.007600</td>\n",
              "      <td>0.078036</td>\n",
              "    </tr>\n",
              "    <tr>\n",
              "      <th>ball</th>\n",
              "      <td>0.003521</td>\n",
              "      <td>-0.002321</td>\n",
              "      <td>-0.014922</td>\n",
              "      <td>1.000000</td>\n",
              "      <td>0.001104</td>\n",
              "      <td>-0.007226</td>\n",
              "      <td>0.003171</td>\n",
              "      <td>-0.006696</td>\n",
              "      <td>-0.007625</td>\n",
              "      <td>0.006440</td>\n",
              "      <td>0.009062</td>\n",
              "      <td>-0.009294</td>\n",
              "      <td>0.007073</td>\n",
              "    </tr>\n",
              "    <tr>\n",
              "      <th>is_super_over</th>\n",
              "      <td>-0.005856</td>\n",
              "      <td>0.097130</td>\n",
              "      <td>-0.038609</td>\n",
              "      <td>0.001104</td>\n",
              "      <td>1.000000</td>\n",
              "      <td>0.004131</td>\n",
              "      <td>0.007677</td>\n",
              "      <td>0.002131</td>\n",
              "      <td>0.011894</td>\n",
              "      <td>-0.000119</td>\n",
              "      <td>0.009778</td>\n",
              "      <td>0.009247</td>\n",
              "      <td>0.011904</td>\n",
              "    </tr>\n",
              "    <tr>\n",
              "      <th>wide_runs</th>\n",
              "      <td>0.002981</td>\n",
              "      <td>0.006352</td>\n",
              "      <td>-0.021056</td>\n",
              "      <td>-0.007226</td>\n",
              "      <td>0.004131</td>\n",
              "      <td>1.000000</td>\n",
              "      <td>-0.006689</td>\n",
              "      <td>-0.017385</td>\n",
              "      <td>-0.010080</td>\n",
              "      <td>-0.000748</td>\n",
              "      <td>-0.115668</td>\n",
              "      <td>0.714991</td>\n",
              "      <td>0.041875</td>\n",
              "    </tr>\n",
              "    <tr>\n",
              "      <th>bye_runs</th>\n",
              "      <td>0.006812</td>\n",
              "      <td>-0.003352</td>\n",
              "      <td>0.018843</td>\n",
              "      <td>0.003171</td>\n",
              "      <td>0.007677</td>\n",
              "      <td>-0.006689</td>\n",
              "      <td>1.000000</td>\n",
              "      <td>-0.005035</td>\n",
              "      <td>-0.002920</td>\n",
              "      <td>-0.000217</td>\n",
              "      <td>-0.033500</td>\n",
              "      <td>0.316897</td>\n",
              "      <td>0.036464</td>\n",
              "    </tr>\n",
              "    <tr>\n",
              "      <th>legbye_runs</th>\n",
              "      <td>0.004570</td>\n",
              "      <td>0.007855</td>\n",
              "      <td>-0.003025</td>\n",
              "      <td>-0.006696</td>\n",
              "      <td>0.002131</td>\n",
              "      <td>-0.017385</td>\n",
              "      <td>-0.005035</td>\n",
              "      <td>1.000000</td>\n",
              "      <td>-0.007589</td>\n",
              "      <td>-0.000563</td>\n",
              "      <td>-0.087076</td>\n",
              "      <td>0.565543</td>\n",
              "      <td>0.037571</td>\n",
              "    </tr>\n",
              "    <tr>\n",
              "      <th>noball_runs</th>\n",
              "      <td>0.014217</td>\n",
              "      <td>0.000909</td>\n",
              "      <td>0.015521</td>\n",
              "      <td>-0.007625</td>\n",
              "      <td>0.011894</td>\n",
              "      <td>-0.010080</td>\n",
              "      <td>-0.002920</td>\n",
              "      <td>-0.007589</td>\n",
              "      <td>1.000000</td>\n",
              "      <td>-0.000326</td>\n",
              "      <td>0.005353</td>\n",
              "      <td>0.197962</td>\n",
              "      <td>0.049264</td>\n",
              "    </tr>\n",
              "    <tr>\n",
              "      <th>penalty_runs</th>\n",
              "      <td>-0.002175</td>\n",
              "      <td>0.005114</td>\n",
              "      <td>0.001670</td>\n",
              "      <td>0.006440</td>\n",
              "      <td>-0.000119</td>\n",
              "      <td>-0.000748</td>\n",
              "      <td>-0.000217</td>\n",
              "      <td>-0.000563</td>\n",
              "      <td>-0.000326</td>\n",
              "      <td>1.000000</td>\n",
              "      <td>-0.003745</td>\n",
              "      <td>0.068606</td>\n",
              "      <td>0.011429</td>\n",
              "    </tr>\n",
              "    <tr>\n",
              "      <th>batsman_runs</th>\n",
              "      <td>-0.043891</td>\n",
              "      <td>-0.001665</td>\n",
              "      <td>0.079102</td>\n",
              "      <td>0.009062</td>\n",
              "      <td>0.009778</td>\n",
              "      <td>-0.115668</td>\n",
              "      <td>-0.033500</td>\n",
              "      <td>-0.087076</td>\n",
              "      <td>0.005353</td>\n",
              "      <td>-0.003745</td>\n",
              "      <td>1.000000</td>\n",
              "      <td>-0.145040</td>\n",
              "      <td>0.975666</td>\n",
              "    </tr>\n",
              "    <tr>\n",
              "      <th>extra_runs</th>\n",
              "      <td>0.009897</td>\n",
              "      <td>0.008656</td>\n",
              "      <td>-0.007600</td>\n",
              "      <td>-0.009294</td>\n",
              "      <td>0.009247</td>\n",
              "      <td>0.714991</td>\n",
              "      <td>0.316897</td>\n",
              "      <td>0.565543</td>\n",
              "      <td>0.197962</td>\n",
              "      <td>0.068606</td>\n",
              "      <td>-0.145040</td>\n",
              "      <td>1.000000</td>\n",
              "      <td>0.075432</td>\n",
              "    </tr>\n",
              "    <tr>\n",
              "      <th>total_runs</th>\n",
              "      <td>-0.042040</td>\n",
              "      <td>0.000240</td>\n",
              "      <td>0.078036</td>\n",
              "      <td>0.007073</td>\n",
              "      <td>0.011904</td>\n",
              "      <td>0.041875</td>\n",
              "      <td>0.036464</td>\n",
              "      <td>0.037571</td>\n",
              "      <td>0.049264</td>\n",
              "      <td>0.011429</td>\n",
              "      <td>0.975666</td>\n",
              "      <td>0.075432</td>\n",
              "      <td>1.000000</td>\n",
              "    </tr>\n",
              "  </tbody>\n",
              "</table>\n",
              "</div>"
            ],
            "text/plain": [
              "               match_id    inning  ...  extra_runs  total_runs\n",
              "match_id       1.000000  0.003373  ...    0.009897   -0.042040\n",
              "inning         0.003373  1.000000  ...    0.008656    0.000240\n",
              "over           0.003196 -0.058539  ...   -0.007600    0.078036\n",
              "ball           0.003521 -0.002321  ...   -0.009294    0.007073\n",
              "is_super_over -0.005856  0.097130  ...    0.009247    0.011904\n",
              "wide_runs      0.002981  0.006352  ...    0.714991    0.041875\n",
              "bye_runs       0.006812 -0.003352  ...    0.316897    0.036464\n",
              "legbye_runs    0.004570  0.007855  ...    0.565543    0.037571\n",
              "noball_runs    0.014217  0.000909  ...    0.197962    0.049264\n",
              "penalty_runs  -0.002175  0.005114  ...    0.068606    0.011429\n",
              "batsman_runs  -0.043891 -0.001665  ...   -0.145040    0.975666\n",
              "extra_runs     0.009897  0.008656  ...    1.000000    0.075432\n",
              "total_runs    -0.042040  0.000240  ...    0.075432    1.000000\n",
              "\n",
              "[13 rows x 13 columns]"
            ]
          },
          "metadata": {
            "tags": []
          },
          "execution_count": 22
        }
      ]
    },
    {
      "cell_type": "code",
      "metadata": {
        "id": "ImBrpdIn6KaB"
      },
      "source": [
        "df3=df1['toss_winner']\n",
        "df4=df1['toss_decision']"
      ],
      "execution_count": 23,
      "outputs": []
    },
    {
      "cell_type": "code",
      "metadata": {
        "id": "k0aBbcJH7In7"
      },
      "source": [
        "tdes=[df3,df4]\n",
        "df5=pd.concat(tdes, axis=1, join=\"inner\")"
      ],
      "execution_count": 24,
      "outputs": []
    },
    {
      "cell_type": "code",
      "metadata": {
        "id": "ltjgLfXQABw4"
      },
      "source": [
        "df5.replace('Royal Challengers Bangalore', 'RCB',inplace=True)\n",
        "df5.replace('Rising Pune Supergiant', 'RPS',inplace=True)\n",
        "df5.replace('Kolkata Knight Riders', 'KKR',inplace=True)\n",
        "df5.replace('Kings XI Punjab', 'KXIP',inplace=True)\n",
        "df5.replace('Mumbai Indians', 'MI',inplace=True)\n",
        "df5.replace('Chennai Super Kings', 'CSK',inplace=True)\n",
        "df5.replace('Sunrisers Hyderabad', 'SRH',inplace=True)\n",
        "df5.replace('Gujarat Lions', 'GL',inplace=True)\n",
        "df5.replace('Delhi Daredevils', 'DDA',inplace=True)\n",
        "df5.replace('Rajasthan Royals', 'RR',inplace=True)\n",
        "df5.replace('Delhi Daredevils', 'DD',inplace=True)\n",
        "df5.replace('Delhi Capitals', 'DC',inplace=True)\n",
        "df5.replace('Kochi Tuskers Kerala', 'KTK',inplace=True)\n",
        "df5.replace('Pune Warriors', 'PW',inplace=True)\n",
        "df5.replace('Rising Pune Supergiants', 'RPS',inplace=True)\n",
        "df5.replace('Deccan Chargers', 'DCC',inplace=True)\n",
        "\n"
      ],
      "execution_count": 25,
      "outputs": []
    },
    {
      "cell_type": "code",
      "metadata": {
        "colab": {
          "base_uri": "https://localhost:8080/",
          "height": 419
        },
        "id": "vEYZvbPgCRh-",
        "outputId": "516b21b2-8524-4b82-e122-5f0fc44f5b91"
      },
      "source": [
        "df5"
      ],
      "execution_count": 26,
      "outputs": [
        {
          "output_type": "execute_result",
          "data": {
            "text/html": [
              "<div>\n",
              "<style scoped>\n",
              "    .dataframe tbody tr th:only-of-type {\n",
              "        vertical-align: middle;\n",
              "    }\n",
              "\n",
              "    .dataframe tbody tr th {\n",
              "        vertical-align: top;\n",
              "    }\n",
              "\n",
              "    .dataframe thead th {\n",
              "        text-align: right;\n",
              "    }\n",
              "</style>\n",
              "<table border=\"1\" class=\"dataframe\">\n",
              "  <thead>\n",
              "    <tr style=\"text-align: right;\">\n",
              "      <th></th>\n",
              "      <th>toss_winner</th>\n",
              "      <th>toss_decision</th>\n",
              "    </tr>\n",
              "  </thead>\n",
              "  <tbody>\n",
              "    <tr>\n",
              "      <th>0</th>\n",
              "      <td>RCB</td>\n",
              "      <td>field</td>\n",
              "    </tr>\n",
              "    <tr>\n",
              "      <th>1</th>\n",
              "      <td>RPS</td>\n",
              "      <td>field</td>\n",
              "    </tr>\n",
              "    <tr>\n",
              "      <th>2</th>\n",
              "      <td>KKR</td>\n",
              "      <td>field</td>\n",
              "    </tr>\n",
              "    <tr>\n",
              "      <th>3</th>\n",
              "      <td>KXIP</td>\n",
              "      <td>field</td>\n",
              "    </tr>\n",
              "    <tr>\n",
              "      <th>4</th>\n",
              "      <td>RCB</td>\n",
              "      <td>bat</td>\n",
              "    </tr>\n",
              "    <tr>\n",
              "      <th>...</th>\n",
              "      <td>...</td>\n",
              "      <td>...</td>\n",
              "    </tr>\n",
              "    <tr>\n",
              "      <th>751</th>\n",
              "      <td>MI</td>\n",
              "      <td>field</td>\n",
              "    </tr>\n",
              "    <tr>\n",
              "      <th>752</th>\n",
              "      <td>CSK</td>\n",
              "      <td>bat</td>\n",
              "    </tr>\n",
              "    <tr>\n",
              "      <th>753</th>\n",
              "      <td>DC</td>\n",
              "      <td>field</td>\n",
              "    </tr>\n",
              "    <tr>\n",
              "      <th>754</th>\n",
              "      <td>CSK</td>\n",
              "      <td>field</td>\n",
              "    </tr>\n",
              "    <tr>\n",
              "      <th>755</th>\n",
              "      <td>MI</td>\n",
              "      <td>bat</td>\n",
              "    </tr>\n",
              "  </tbody>\n",
              "</table>\n",
              "<p>756 rows × 2 columns</p>\n",
              "</div>"
            ],
            "text/plain": [
              "    toss_winner toss_decision\n",
              "0           RCB         field\n",
              "1           RPS         field\n",
              "2           KKR         field\n",
              "3          KXIP         field\n",
              "4           RCB           bat\n",
              "..          ...           ...\n",
              "751          MI         field\n",
              "752         CSK           bat\n",
              "753          DC         field\n",
              "754         CSK         field\n",
              "755          MI           bat\n",
              "\n",
              "[756 rows x 2 columns]"
            ]
          },
          "metadata": {
            "tags": []
          },
          "execution_count": 26
        }
      ]
    },
    {
      "cell_type": "code",
      "metadata": {
        "colab": {
          "base_uri": "https://localhost:8080/",
          "height": 406
        },
        "id": "KLICsZaq_d22",
        "outputId": "f20448b1-96c0-4c19-fee0-ccd3c36f64b4"
      },
      "source": [
        "plt.figure(figsize=(10,6))\n",
        "sns.countplot(x=\"toss_winner\", hue=\"toss_decision\", data=df5)"
      ],
      "execution_count": 27,
      "outputs": [
        {
          "output_type": "execute_result",
          "data": {
            "text/plain": [
              "<matplotlib.axes._subplots.AxesSubplot at 0x7f9c7a5275d0>"
            ]
          },
          "metadata": {
            "tags": []
          },
          "execution_count": 27
        },
        {
          "output_type": "display_data",
          "data": {
            "image/png": "[encoded data removed]",
            "text/plain": [
              "<Figure size 720x432 with 1 Axes>"
            ]
          },
          "metadata": {
            "tags": [],
            "needs_background": "light"
          }
        }
      ]
    },
    {
      "cell_type": "code",
      "metadata": {
        "colab": {
          "base_uri": "https://localhost:8080/",
          "height": 459
        },
        "id": "5gTjxDY7HtJG",
        "outputId": "43fb898c-51a4-46c9-b003-890800160ef0"
      },
      "source": [
        "plt.figure(figsize=(10,6))\n",
        "sns.countplot(df['over'])"
      ],
      "execution_count": 28,
      "outputs": [
        {
          "output_type": "stream",
          "text": [
            "/usr/local/lib/python3.7/dist-packages/seaborn/_decorators.py:43: FutureWarning: Pass the following variable as a keyword arg: x. From version 0.12, the only valid positional argument will be `data`, and passing other arguments without an explicit keyword will result in an error or misinterpretation.\n",
            "  FutureWarning\n"
          ],
          "name": "stderr"
        },
        {
          "output_type": "execute_result",
          "data": {
            "text/plain": [
              "<matplotlib.axes._subplots.AxesSubplot at 0x7f9c7a520f90>"
            ]
          },
          "metadata": {
            "tags": []
          },
          "execution_count": 28
        },
        {
          "output_type": "display_data",
          "data": {
            "image/png": "[encoded data removed]",
            "text/plain": [
              "<Figure size 720x432 with 1 Axes>"
            ]
          },
          "metadata": {
            "tags": [],
            "needs_background": "light"
          }
        }
      ]
    },
    {
      "cell_type": "code",
      "metadata": {
        "colab": {
          "base_uri": "https://localhost:8080/",
          "height": 460
        },
        "id": "L_sQko9KQi5h",
        "outputId": "68ba5db1-6885-455b-c08f-ad202650f61a"
      },
      "source": [
        "#shows Total runs for each season\n",
        "plt.figure(figsize=(10,6))\n",
        "sns.countplot(df['total_runs'])"
      ],
      "execution_count": 29,
      "outputs": [
        {
          "output_type": "stream",
          "text": [
            "/usr/local/lib/python3.7/dist-packages/seaborn/_decorators.py:43: FutureWarning: Pass the following variable as a keyword arg: x. From version 0.12, the only valid positional argument will be `data`, and passing other arguments without an explicit keyword will result in an error or misinterpretation.\n",
            "  FutureWarning\n"
          ],
          "name": "stderr"
        },
        {
          "output_type": "execute_result",
          "data": {
            "text/plain": [
              "<matplotlib.axes._subplots.AxesSubplot at 0x7f9c716fdbd0>"
            ]
          },
          "metadata": {
            "tags": []
          },
          "execution_count": 29
        },
        {
          "output_type": "display_data",
          "data": {
            "image/png": "[encoded data removed]",
            "text/plain": [
              "<Figure size 720x432 with 1 Axes>"
            ]
          },
          "metadata": {
            "tags": [],
            "needs_background": "light"
          }
        }
      ]
    }
  ]
}